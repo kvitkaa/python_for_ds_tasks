{
 "cells": [
  {
   "cell_type": "markdown",
   "id": "5d457ccb",
   "metadata": {},
   "source": [
    "1.Задане значення у змінній var. Перетворіть значення в змінній var на цілочисельне, запишіть в нову змінну `var_int` та виведіть тип нової змінної `var_int`."
   ]
  },
  {
   "cell_type": "code",
   "execution_count": 1,
   "id": "5036ad6e",
   "metadata": {
    "ExecuteTime": {
     "end_time": "2023-06-23T09:03:06.772085Z",
     "start_time": "2023-06-23T09:03:06.768085Z"
    }
   },
   "outputs": [
    {
     "name": "stdout",
     "output_type": "stream",
     "text": [
      "<class 'int'>\n"
     ]
    }
   ],
   "source": [
    "var = '1224'\n",
    "var_int = int(var)\n",
    "print(type(var_int))"
   ]
  },
  {
   "cell_type": "markdown",
   "id": "5e008947",
   "metadata": {
    "ExecuteTime": {
     "end_time": "2023-06-13T13:00:19.611699Z",
     "start_time": "2023-06-13T13:00:19.607737Z"
    }
   },
   "source": [
    "2.У Вас є список слів. Виведіть кожне третє слово в списку."
   ]
  },
  {
   "cell_type": "code",
   "execution_count": 2,
   "id": "72b34a31",
   "metadata": {
    "ExecuteTime": {
     "end_time": "2023-06-23T09:03:06.779087Z",
     "start_time": "2023-06-23T09:03:06.774086Z"
    }
   },
   "outputs": [],
   "source": [
    "words = [\"apple\", \"banana\", \"cherry\", \"date\", \"elderberry\", \"fig\", \"grape\", \"honeydew\", \"ice cream\", \"jackfruit\", \"kiwi\", \"lemon\", \"mango\", \"nectarine\", \"orange\", \"pineapple\", \"quince\", \"raspberry\", \"strawberry\", \"tangerine\", \"ugli fruit\", \"vanilla\", \"watermelon\", \"xigua\", \"yam\", \"zucchini\"]"
   ]
  },
  {
   "cell_type": "code",
   "execution_count": 3,
   "id": "e90f157d",
   "metadata": {
    "ExecuteTime": {
     "end_time": "2023-06-23T09:03:06.783088Z",
     "start_time": "2023-06-23T09:03:06.780088Z"
    }
   },
   "outputs": [
    {
     "name": "stdout",
     "output_type": "stream",
     "text": [
      "['cherry', 'fig', 'ice cream', 'lemon', 'orange', 'raspberry', 'ugli fruit', 'xigua']\n"
     ]
    }
   ],
   "source": [
    "third_words = [word for word in words[2::3]]\n",
    "print(third_words)"
   ]
  },
  {
   "cell_type": "markdown",
   "id": "d79309c1",
   "metadata": {},
   "source": [
    "3.Скільки всього СЛІВ у списку `words`?"
   ]
  },
  {
   "cell_type": "code",
   "execution_count": 4,
   "id": "8dabfc77",
   "metadata": {
    "ExecuteTime": {
     "end_time": "2023-06-23T09:03:06.787090Z",
     "start_time": "2023-06-23T09:03:06.784089Z"
    }
   },
   "outputs": [
    {
     "name": "stdout",
     "output_type": "stream",
     "text": [
      "Кількість слів у списку words: 26\n"
     ]
    }
   ],
   "source": [
    "word_count = len(words)\n",
    "print(f\"Кількість слів у списку words: {word_count}\")"
   ]
  },
  {
   "cell_type": "markdown",
   "id": "73012e1f",
   "metadata": {
    "ExecuteTime": {
     "end_time": "2023-06-13T13:03:17.414285Z",
     "start_time": "2023-06-13T13:03:17.409285Z"
    }
   },
   "source": [
    "4.Скільки всього ЛІТЕР в усіх словах у списку words?"
   ]
  },
  {
   "cell_type": "code",
   "execution_count": 5,
   "id": "5892e0a7",
   "metadata": {
    "ExecuteTime": {
     "end_time": "2023-06-23T09:03:06.792090Z",
     "start_time": "2023-06-23T09:03:06.788089Z"
    }
   },
   "outputs": [
    {
     "name": "stdout",
     "output_type": "stream",
     "text": [
      "Кількість літер у всіх словах у списку words: 180\n"
     ]
    }
   ],
   "source": [
    "letter_count = sum(len(word) for word in words)\n",
    "print(f\"Кількість літер у всіх словах у списку words: {letter_count}\")"
   ]
  },
  {
   "cell_type": "markdown",
   "id": "80e5af34",
   "metadata": {},
   "source": [
    "5.Скільки разів зустрічається кожна літера в усіх словах списку `words`? Відсортуйте літери в результуючому словнику за алфавітним порядком."
   ]
  },
  {
   "cell_type": "code",
   "execution_count": 6,
   "id": "c8223f5d",
   "metadata": {
    "ExecuteTime": {
     "end_time": "2023-06-23T09:03:06.797092Z",
     "start_time": "2023-06-23T09:03:06.793091Z"
    }
   },
   "outputs": [
    {
     "name": "stdout",
     "output_type": "stream",
     "text": [
      "' ': 2\n",
      "'a': 20\n",
      "'b': 4\n",
      "'c': 8\n",
      "'d': 3\n",
      "'e': 24\n",
      "'f': 3\n",
      "'g': 7\n",
      "'h': 3\n",
      "'i': 15\n",
      "'j': 1\n",
      "'k': 2\n",
      "'l': 8\n",
      "'m': 5\n",
      "'n': 15\n",
      "'o': 5\n",
      "'p': 7\n",
      "'q': 1\n",
      "'r': 19\n",
      "'s': 2\n",
      "'t': 7\n",
      "'u': 6\n",
      "'v': 1\n",
      "'w': 4\n",
      "'x': 1\n",
      "'y': 6\n",
      "'z': 1\n"
     ]
    }
   ],
   "source": [
    "letter_count = {}\n",
    "for word in words:\n",
    "    for letter in word:\n",
    "        if letter in letter_count:\n",
    "            letter_count[letter] += 1\n",
    "        else:\n",
    "            letter_count[letter] = 1\n",
    "sorted_letter_count = dict(sorted(letter_count.items()))\n",
    "for letter, count in sorted_letter_count.items():\n",
    "    print(f\"'{letter}': {count}\")"
   ]
  },
  {
   "cell_type": "markdown",
   "id": "32066a02",
   "metadata": {},
   "source": [
    "Очікуваний результат: \n",
    "```\n",
    "{' ': 2,\n",
    " 'a': 20,\n",
    " 'b': 4,\n",
    " 'c': 8,\n",
    " 'd': 3,\n",
    " 'e': 24,\n",
    " 'f': 3,\n",
    " 'g': 7,\n",
    " 'h': 3,\n",
    " 'i': 15,\n",
    " 'j': 1,\n",
    " 'k': 2,\n",
    " 'l': 8,\n",
    " 'm': 5,\n",
    " 'n': 15,\n",
    " 'o': 5,\n",
    " 'p': 7,\n",
    " 'q': 1,\n",
    " 'r': 19,\n",
    " 's': 2,\n",
    " 't': 7,\n",
    " 'u': 6,\n",
    " 'v': 1,\n",
    " 'w': 4,\n",
    " 'x': 1,\n",
    " 'y': 6,\n",
    " 'z': 1}\n",
    " ```"
   ]
  },
  {
   "cell_type": "markdown",
   "id": "4aaa1ed7",
   "metadata": {},
   "source": [
    "6.Використовуючи результат виконання попереднього завдання, виведіть на екран ту літеру, яка зустрічається найчастіше і скільки разів вона зустрічається. Це треба зробити програмно, а не просто подививщись на дані :) "
   ]
  },
  {
   "cell_type": "code",
   "execution_count": 7,
   "id": "9174abef",
   "metadata": {
    "ExecuteTime": {
     "end_time": "2023-06-23T09:03:06.801092Z",
     "start_time": "2023-06-23T09:03:06.798092Z"
    }
   },
   "outputs": [
    {
     "name": "stdout",
     "output_type": "stream",
     "text": [
      "Найчастіший елемент: e.\n",
      "Кількість появ: 24.\n"
     ]
    }
   ],
   "source": [
    "max_repeat = max(sorted_letter_count, key = sorted_letter_count.get)\n",
    "max_repeat_count = sorted_letter_count[max_repeat]\n",
    "print(f\"Найчастіший елемент: {max_repeat}.\\nКількість появ: {max_repeat_count}.\")"
   ]
  },
  {
   "cell_type": "markdown",
   "id": "68062814",
   "metadata": {},
   "source": [
    "7.Для кожного елементу списку виведіть тип елемену. Якщо тип обʼєкту - int (тільки цей тип безпосередньо!), виведіть результат піднесення цього числа до степеню 5."
   ]
  },
  {
   "cell_type": "code",
   "execution_count": 8,
   "id": "9926841e",
   "metadata": {
    "ExecuteTime": {
     "end_time": "2023-06-23T09:03:06.808094Z",
     "start_time": "2023-06-23T09:03:06.802092Z"
    }
   },
   "outputs": [],
   "source": [
    "elements = [12, 'type', 'Bob', True, 'False', 1.414, 1444.333, 123/33, 5]"
   ]
  },
  {
   "cell_type": "code",
   "execution_count": 9,
   "id": "06255f7a",
   "metadata": {
    "ExecuteTime": {
     "end_time": "2023-06-23T09:03:06.812095Z",
     "start_time": "2023-06-23T09:03:06.809094Z"
    },
    "code_folding": []
   },
   "outputs": [
    {
     "name": "stdout",
     "output_type": "stream",
     "text": [
      "The type of element 12 is <class 'int'>\n",
      "This is a number! Let's take it to power 5! The result is: 248832\n",
      "The type of element type is <class 'str'>\n",
      "The type of element Bob is <class 'str'>\n",
      "The type of element True is <class 'bool'>\n",
      "The type of element False is <class 'str'>\n",
      "The type of element 1.414 is <class 'float'>\n",
      "The type of element 1444.333 is <class 'float'>\n",
      "The type of element 3.727272727272727 is <class 'float'>\n",
      "The type of element 5 is <class 'int'>\n",
      "This is a number! Let's take it to power 5! The result is: 3125\n"
     ]
    }
   ],
   "source": [
    "for el in elements:\n",
    "    print(f\"The type of element {el} is {type(el)}\") \n",
    "    if type(el) == int:\n",
    "        print(f\"This is a number! Let's take it to power 5! The result is: {el**5}\")"
   ]
  },
  {
   "cell_type": "markdown",
   "id": "dfbb176a",
   "metadata": {
    "ExecuteTime": {
     "end_time": "2023-06-13T12:55:17.795510Z",
     "start_time": "2023-06-13T12:55:17.787158Z"
    }
   },
   "source": [
    "Приклад очікуваного результату (текстові коментарі і форматування можуть бути іншими):\n",
    "```\n",
    "    The type of element 12 is <class 'int'>\n",
    "    This is a number! Let't take it to power 5! The result is: 248832\n",
    "    The type of element type is <class 'str'>\n",
    "    The type of element Bob is <class 'str'>\n",
    "    The type of element True is <class 'bool'>\n",
    "    The type of element False is <class 'str'>\n",
    "    The type of element 1.414 is <class 'float'>\n",
    "    The type of element 1444.333 is <class 'float'>\n",
    "    The type of element 3.727272727272727 is <class 'float'>\n",
    "    The type of element 5 is <class 'int'>\n",
    "    This is a number! Let't take it to power 5! The result is: 3125\n",
    "```"
   ]
  },
  {
   "cell_type": "markdown",
   "id": "5fa3645b",
   "metadata": {},
   "source": [
    "8.Створіть програму, яка:\n",
    "\n",
    "- Для визначених значень `name` та `age` друкує повідомлення \"Привіт, [Ім’я] ! Вам [Вік] років.\".\n",
    "- Обчислює, скільки років залишилося користувачеві до 100 років, і друкує повідомлення з цією інформацією: \"До 100 років Вам лишилось [Число] років.\"  \n",
    "\n",
    "Запустіть програму для набору користувачів нижче."
   ]
  },
  {
   "cell_type": "code",
   "execution_count": 10,
   "id": "18ac0ea2",
   "metadata": {
    "ExecuteTime": {
     "end_time": "2023-06-23T09:03:06.816096Z",
     "start_time": "2023-06-23T09:03:06.813095Z"
    }
   },
   "outputs": [],
   "source": [
    "users = [\n",
    "    ['Karl', 30],\n",
    "    ['Klara', 15],\n",
    "    ['Alexis', 56],\n",
    "    ['Charles', 99]\n",
    "]"
   ]
  },
  {
   "cell_type": "code",
   "execution_count": 11,
   "id": "523b8c70",
   "metadata": {
    "ExecuteTime": {
     "end_time": "2023-06-23T09:03:06.823097Z",
     "start_time": "2023-06-23T09:03:06.819097Z"
    }
   },
   "outputs": [
    {
     "name": "stdout",
     "output_type": "stream",
     "text": [
      "Привіт, Karl! Вам 30 років.\n",
      "До 100 років Вам лишилось 70 років.\n",
      "Привіт, Klara! Вам 15 років.\n",
      "До 100 років Вам лишилось 85 років.\n",
      "Привіт, Alexis! Вам 56 років.\n",
      "До 100 років Вам лишилось 44 років.\n",
      "Привіт, Charles! Вам 99 років.\n",
      "До 100 років Вам лишилось 1 років.\n"
     ]
    }
   ],
   "source": [
    "def years_until_100(name, age):\n",
    "    years_left = 100 - age\n",
    "    print(f\"До 100 років Вам лишилось {years_left} років.\")\n",
    "for user in users:\n",
    "    name, age = user\n",
    "    print(f\"Привіт, {name}! Вам {age} років.\")\n",
    "    years_until_100(name, age)"
   ]
  },
  {
   "cell_type": "markdown",
   "id": "b892c44f",
   "metadata": {},
   "source": [
    "9.Напишть фрагмент коду, який перевіряє, чи слово є паліндромом. Слово (або фраза) є паліндромом, якщо при читанні його зворотньому напрямі буде таке саме слово.\n",
    "Наприклад, слово \"radar\" є паліндромом, але \"radix\" не є паліндромом. Код в кінці має видавати результат True або False.  \n",
    "Код має звертати увагу лише на символи-літери. Регістр літер не має значення, а знаки пунктуації (кома, крапка) та `-+=/\\`` мають бути вилучені з рядка перед перевіркою. Так само, пробіли не впливають на визначення,чи слово є палендромом. Мають значення лише літери.\n",
    "Тобто рядки \"A mam, a\" та \"A mamA\" є паліндромами, а \"AmamU\" - ні.\n",
    "\n",
    "Опціонально ви можете розмістити код на перевірку чи є слово паліндромом у фукнцію.\n",
    "Запустіть свій код для рядків з набору нижче і виведіть результат перевірки на екран для кожного рядка."
   ]
  },
  {
   "cell_type": "code",
   "execution_count": 12,
   "id": "12359461",
   "metadata": {
    "ExecuteTime": {
     "end_time": "2023-06-23T09:03:06.833099Z",
     "start_time": "2023-06-23T09:03:06.824098Z"
    }
   },
   "outputs": [],
   "source": [
    "phrases_to_check = [\n",
    "    'radar',\n",
    "    'radix',\n",
    "    'A mam, a',\n",
    "    'A mamA',\n",
    "    'Sit on a potato pan Otis',\n",
    "    'Taco cat.',\n",
    "    'Taco cat',\n",
    "    'Tornado',\n",
    "    \"Go hang a salami, I'm a lasagna hog.\"\n",
    "]"
   ]
  },
  {
   "cell_type": "code",
   "execution_count": 13,
   "id": "92efab7a",
   "metadata": {
    "ExecuteTime": {
     "end_time": "2023-06-23T09:03:06.839101Z",
     "start_time": "2023-06-23T09:03:06.834100Z"
    },
    "code_folding": []
   },
   "outputs": [
    {
     "name": "stdout",
     "output_type": "stream",
     "text": [
      "radar - True\n",
      "radix - False\n",
      "A mam, a - True\n",
      "A mamA - True\n",
      "Sit on a potato pan Otis - True\n",
      "Taco cat. - True\n",
      "Taco cat - True\n",
      "Tornado - False\n",
      "Go hang a salami, I'm a lasagna hog. - True\n"
     ]
    }
   ],
   "source": [
    "def is_palindrome(word):\n",
    "    ignored_symbols = \" .,:;!?\\\"'(){}<>\"\n",
    "    prepared_word = \"\"\n",
    "    for letter in word:\n",
    "        if letter not in ignored_symbols:\n",
    "             prepared_word += letter\n",
    "    prepared_word = prepared_word.upper()\n",
    "    return prepared_word[::-1] == prepared_word\n",
    "for word in phrases_to_check:\n",
    "    if is_palindrome(word):\n",
    "        print(f\"{word} - True\")\n",
    "    else:\n",
    "        print(f\"{word} - False\")"
   ]
  },
  {
   "cell_type": "markdown",
   "id": "e259807f",
   "metadata": {},
   "source": [
    "Очкувані результати обчислень:\n",
    "```\n",
    "    radar - True\n",
    "    radix - False\n",
    "    A mam, a - True\n",
    "    A mamA - True\n",
    "    Sit on a potato pan Otis - True\n",
    "    Taco cat. - True\n",
    "    Taco cat - True\n",
    "    Tornado - False\n",
    "    Go hang a salami, I'm a lasagna hog. - True\n",
    "```"
   ]
  }
 ],
 "metadata": {
  "kernelspec": {
   "display_name": "Python 3 (ipykernel)",
   "language": "python",
   "name": "python3"
  },
  "language_info": {
   "codemirror_mode": {
    "name": "ipython",
    "version": 3
   },
   "file_extension": ".py",
   "mimetype": "text/x-python",
   "name": "python",
   "nbconvert_exporter": "python",
   "pygments_lexer": "ipython3",
   "version": "3.10.9"
  },
  "toc": {
   "base_numbering": 1,
   "nav_menu": {},
   "number_sections": true,
   "sideBar": true,
   "skip_h1_title": false,
   "title_cell": "Table of Contents",
   "title_sidebar": "Contents",
   "toc_cell": false,
   "toc_position": {},
   "toc_section_display": true,
   "toc_window_display": false
  }
 },
 "nbformat": 4,
 "nbformat_minor": 5
}
